{
 "cells": [
  {
   "cell_type": "code",
   "execution_count": 1,
   "metadata": {},
   "outputs": [],
   "source": [
    "import uuid\n",
    "\n",
    "from google.cloud import bigquery\n",
    "\n",
    "\n",
    "class UserManager:\n",
    "    def __init__(\n",
    "        self, project_id: str, dataset_id: str, table_id: str\n",
    "    ):\n",
    "        self.client = bigquery.Client(project=project_id)\n",
    "        self.dataset_id = dataset_id\n",
    "        self.table_id = table_id\n",
    "        self.table_ref = self.client.dataset(dataset_id).table(\n",
    "            table_id\n",
    "        )\n",
    "\n",
    "    def check_and_create_user(\n",
    "        self, google_id: str, nickname: str, icon_url: str\n",
    "    ) -> str:\n",
    "        # Check if google_id exists in the table\n",
    "        query = f\"\"\"\n",
    "            SELECT user_id\n",
    "            FROM `{self.dataset_id}.{self.table_id}`\n",
    "            WHERE google_id = @google_id\n",
    "        \"\"\"\n",
    "        job_config = bigquery.QueryJobConfig(\n",
    "            query_parameters=[\n",
    "                bigquery.ScalarQueryParameter(\n",
    "                    \"google_id\", \"STRING\", google_id\n",
    "                )\n",
    "            ]\n",
    "        )\n",
    "        query_job = self.client.query(query, job_config=job_config)\n",
    "\n",
    "        results = query_job.result()\n",
    "\n",
    "        # If a result exists, return the existing user_id\n",
    "        if results.total_rows > 0:\n",
    "            # The first result should contain the user_id\n",
    "            for row in results:\n",
    "                return row.user_id\n",
    "            \n",
    "        # If no result exists, create a new user_id and insert the new entry\n",
    "        new_user_id = str(\n",
    "            uuid.uuid4()\n",
    "        )  # Generating a new user_id\n",
    "        self.create_user(\n",
    "            google_id, nickname, icon_url, new_user_id\n",
    "        )\n",
    "        return new_user_id\n",
    "\n",
    "    def create_user(\n",
    "        self,\n",
    "        google_id: str,\n",
    "        nickname: str,\n",
    "        icon_url: str,\n",
    "        user_id: str,\n",
    "    ):\n",
    "        # Insert the new user entry into the BigQuery table\n",
    "        rows_to_insert = [\n",
    "            {\n",
    "                \"google_id\": google_id,\n",
    "                \"nickname\": nickname,\n",
    "                \"icon_url\": icon_url,\n",
    "                \"user_id\": user_id,\n",
    "            }\n",
    "        ]\n",
    "        errors = self.client.insert_rows_json(\n",
    "            self.table_ref, rows_to_insert\n",
    "        )\n",
    "        if errors:\n",
    "            print(\"Errors occurred while inserting rows:\", errors)\n",
    "        else:\n",
    "            print(f\"User with ID {user_id} successfully added.\")\n"
   ]
  },
  {
   "cell_type": "code",
   "execution_count": 2,
   "metadata": {},
   "outputs": [],
   "source": [
    "user_manager = UserManager(\n",
    "    project_id=\"zennaihackason\",\n",
    "    dataset_id=\"musp\",\n",
    "    table_id=\"users\",\n",
    ")\n"
   ]
  },
  {
   "cell_type": "code",
   "execution_count": 4,
   "metadata": {},
   "outputs": [],
   "source": [
    "result = user_manager.check_and_create_user(\n",
    "    google_id=\"test_google_id\",\n",
    "    nickname=\"test_nickname\",\n",
    "    icon_url=\"test_icon_url\",\n",
    ")"
   ]
  },
  {
   "cell_type": "code",
   "execution_count": 5,
   "metadata": {},
   "outputs": [
    {
     "name": "stdout",
     "output_type": "stream",
     "text": [
      "3567c506-6492-4c0c-9a42-6bea33ff7766\n"
     ]
    }
   ],
   "source": [
    "print(result)"
   ]
  }
 ],
 "metadata": {
  "kernelspec": {
   "display_name": "musp",
   "language": "python",
   "name": "python3"
  },
  "language_info": {
   "codemirror_mode": {
    "name": "ipython",
    "version": 3
   },
   "file_extension": ".py",
   "mimetype": "text/x-python",
   "name": "python",
   "nbconvert_exporter": "python",
   "pygments_lexer": "ipython3",
   "version": "3.11.11"
  }
 },
 "nbformat": 4,
 "nbformat_minor": 2
}
