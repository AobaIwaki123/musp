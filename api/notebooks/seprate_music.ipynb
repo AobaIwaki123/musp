{
 "cells": [
  {
   "cell_type": "code",
   "execution_count": 7,
   "metadata": {},
   "outputs": [],
   "source": [
    "import subprocess"
   ]
  },
  {
   "cell_type": "code",
   "execution_count": 8,
   "metadata": {},
   "outputs": [],
   "source": [
    "youtube = {\n",
    "    \"one-choise\": \"https://www.youtube.com/watch?v=0b1UKU8wPvw\",\n",
    "    \"honeydew\": \"https://www.youtube.com/watch?v=wRzPuptA6yw\",\n",
    "    \"yuuhi\": \"https://www.youtube.com/watch?v=ibI6-kvD1nc\",\n",
    "}"
   ]
  },
  {
   "cell_type": "code",
   "execution_count": null,
   "metadata": {},
   "outputs": [],
   "source": [
    "key = \"yuuhi\"\n",
    "out_path = f\"videos/{key}.mp4\"\n",
    "result = subprocess.run(\n",
    "    [\"yt-dlp\", youtube[key], \"-o\", out_path],\n",
    "    capture_output=True,\n",
    "    text=True,\n",
    ")\n",
    "# print(result.stdout)"
   ]
  },
  {
   "cell_type": "code",
   "execution_count": null,
   "metadata": {},
   "outputs": [],
   "source": []
  }
 ],
 "metadata": {
  "kernelspec": {
   "display_name": "musp",
   "language": "python",
   "name": "python3"
  },
  "language_info": {
   "codemirror_mode": {
    "name": "ipython",
    "version": 3
   },
   "file_extension": ".py",
   "mimetype": "text/x-python",
   "name": "python",
   "nbconvert_exporter": "python",
   "pygments_lexer": "ipython3",
   "version": "3.11.11"
  }
 },
 "nbformat": 4,
 "nbformat_minor": 2
}
