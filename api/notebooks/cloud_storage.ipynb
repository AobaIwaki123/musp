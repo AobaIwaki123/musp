{
 "cells": [
  {
   "cell_type": "code",
   "execution_count": 2,
   "metadata": {},
   "outputs": [],
   "source": [
    "from google.cloud import storage\n",
    "\n",
    "\n",
    "def upload_blob(bucket_name, source_file_name, destination_blob_name):\n",
    "    \"\"\"Uploads a file to the bucket.\"\"\"\n",
    "    # The ID of your GCS bucket\n",
    "    # bucket_name = \"your-bucket-name\"\n",
    "    # The path to your file to upload\n",
    "    # source_file_name = \"local/path/to/file\"\n",
    "    # The ID of your GCS object\n",
    "    # destination_blob_name = \"storage-object-name\"\n",
    "\n",
    "    print(\n",
    "        f\"Uploading file {source_file_name} to {destination_blob_name} in bucket {bucket_name}.\"\n",
    "    )\n",
    "\n",
    "    storage_client = storage.Client()\n",
    "    bucket = storage_client.bucket(bucket_name)\n",
    "    blob = bucket.blob(destination_blob_name)\n",
    "\n",
    "    print(f\"Uploading file {source_file_name} to {destination_blob_name} in bucket {bucket_name}.\")\n",
    "\n",
    "    # Optional: set a generation-match precondition to avoid potential race conditions\n",
    "    # and data corruptions. The request to upload is aborted if the object's\n",
    "    # generation number does not match your precondition. For a destination\n",
    "    # object that does not yet exist, set the if_generation_match precondition to 0.\n",
    "    # If the destination object already exists in your bucket, set instead a\n",
    "    # generation-match precondition using its generation number.\n",
    "    generation_match_precondition = 0\n",
    "\n",
    "    print(f\"Generation match precondition: {generation_match_precondition}\")\n",
    "\n",
    "    blob.upload_from_filename(source_file_name, if_generation_match=generation_match_precondition)\n",
    "\n",
    "    print(\n",
    "        f\"File {source_file_name} uploaded to {destination_blob_name}.\"\n",
    "    )\n"
   ]
  },
  {
   "cell_type": "code",
   "execution_count": 3,
   "metadata": {},
   "outputs": [
    {
     "name": "stdout",
     "output_type": "stream",
     "text": [
      "Uploading file /home/aiwaki/musp/api/tmp/67b121dc-2ecd-48e5-9c09-888b08ec1433/separated/htdemucs/source/vocals.wav to kunugi/test.wav in bucket musp.\n",
      "Uploading file /home/aiwaki/musp/api/tmp/67b121dc-2ecd-48e5-9c09-888b08ec1433/separated/htdemucs/source/vocals.wav to kunugi/test.wav in bucket musp.\n",
      "Generation match precondition: 0\n",
      "File /home/aiwaki/musp/api/tmp/67b121dc-2ecd-48e5-9c09-888b08ec1433/separated/htdemucs/source/vocals.wav uploaded to kunugi/test.wav.\n"
     ]
    }
   ],
   "source": [
    "upload_blob(\n",
    "    \"musp\",\n",
    "    \"/home/aiwaki/musp/api/tmp/67b121dc-2ecd-48e5-9c09-888b08ec1433/separated/htdemucs/source/vocals.wav\",\n",
    "    \"kunugi/test.wav\",\n",
    ")"
   ]
  }
 ],
 "metadata": {
  "kernelspec": {
   "display_name": "musp",
   "language": "python",
   "name": "python3"
  },
  "language_info": {
   "codemirror_mode": {
    "name": "ipython",
    "version": 3
   },
   "file_extension": ".py",
   "mimetype": "text/x-python",
   "name": "python",
   "nbconvert_exporter": "python",
   "pygments_lexer": "ipython3",
   "version": "3.11.11"
  }
 },
 "nbformat": 4,
 "nbformat_minor": 2
}
